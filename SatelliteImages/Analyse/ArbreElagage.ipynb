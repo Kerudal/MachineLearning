{
 "cells": [
  {
   "cell_type": "code",
   "execution_count": 3,
   "metadata": {},
   "outputs": [],
   "source": [
    "import numpy as np\n",
    "import pandas as pd\n",
    "import seaborn as sns\n",
    "import matplotlib.pyplot as plt\n",
    "from sklearn.metrics.cluster import adjusted_rand_score\n",
    "from sklearn.tree import DecisionTreeClassifier\n",
    "\n",
    "import utils "
   ]
  },
  {
   "cell_type": "code",
   "execution_count": 12,
   "metadata": {},
   "outputs": [],
   "source": [
    "from sklearn.tree import DecisionTreeClassifier\n",
    "from sklearn.model_selection import KFold\n",
    "from sklearn.metrics import accuracy_score\n",
    "from sklearn.utils import check_X_y\n",
    "\n",
    "def decision_tree_cross_validation_accuracies(X, y, n_folds, lambdas):\n",
    "    X, y = check_X_y(X, y)\n",
    "    # Création d'un object `KFold` pour la validation croisée\n",
    "    kf = KFold(n_splits=n_folds, shuffle=True).split(X)\n",
    "    for train_index, val_index in kf:\n",
    "        # Création de `X_train`, `y_train`, `X_val` et `y_val`\n",
    "        X_train = X[train_index, :]\n",
    "        y_train = y[train_index]\n",
    "        X_val = X[val_index, :]\n",
    "        y_val = y[val_index]\n",
    "    \n",
    "    for k, lmb in enumerate(lambdas):\n",
    "        # Création d'un arbre avec un coefficient coût-complexité\n",
    "        # égal à `lmb`\n",
    "        clf = DecisionTreeClassifier(ccp_alpha=lmb)\n",
    "        # Apprentissage sur l'ensemble d'apprentissage et calcul\n",
    "        # de la précision sur l'ensemble de validation\n",
    "        clf.fit(X_train, y_train)\n",
    "        pred = clf.predict(X_val)\n",
    "        acc = accuracy_score(y_val, pred)\n",
    "        yield k, acc"
   ]
  },
  {
   "cell_type": "code",
   "execution_count": 5,
   "metadata": {},
   "outputs": [],
   "source": [
    "x = pd.read_csv(\"../Data_Crowdsourced_Mapping/training.csv\",sep=\",\")\n",
    "X_train = x.drop(columns=[\"class\"])\n",
    "y_train = x[\"class\"]\n",
    "x = pd.read_csv(\"../Data_Crowdsourced_Mapping/testing.csv\",sep=\",\")\n",
    "X_test = x.drop(columns=[\"class\"])\n",
    "y_test = x[\"class\"]"
   ]
  },
  {
   "cell_type": "code",
   "execution_count": 9,
   "metadata": {},
   "outputs": [],
   "source": [
    "clf = DecisionTreeClassifier()\n",
    "clf.fit(X_train, y_train)\n",
    "lambdas = clf.cost_complexity_pruning_path(X, y)[\"ccp_alphas\"]\n",
    "lambdas = np.unique(lambdas)\n",
    "lambdas_moy = np.sqrt(lambdas[:-1] * lambdas[1:])"
   ]
  },
  {
   "cell_type": "code",
   "execution_count": 14,
   "metadata": {},
   "outputs": [
    {
     "data": {
      "image/png": "[encoded data removed]",
      "text/plain": [
       "<Figure size 432x288 with 1 Axes>"
      ]
     },
     "metadata": {
      "needs_background": "light"
     },
     "output_type": "display_data"
    }
   ],
   "source": [
    "n_folds = 10\n",
    "df = pd.DataFrame(\n",
    "decision_tree_cross_validation_accuracies(X, y, n_folds,lambdas_moy),columns=[\"k\", \"accuracy\"])\n",
    "valid = df.groupby(\"k\").mean()\n",
    "plt.plot(lambdas_moy[valid.index], valid.accuracy)\n",
    "plt.xscale('log')\n",
    "plt.show()"
   ]
  },
  {
   "cell_type": "code",
   "execution_count": 16,
   "metadata": {},
   "outputs": [
    {
     "name": "stdout",
     "output_type": "stream",
     "text": [
      "0.00024187260132738005\n"
     ]
    },
    {
     "data": {
      "text/plain": [
       "0.5666666666666667"
      ]
     },
     "execution_count": 16,
     "metadata": {},
     "output_type": "execute_result"
    }
   ],
   "source": [
    "lmb = lambdas_moy[valid.accuracy.idxmax()]\n",
    "print(lmb)\n",
    "clf = DecisionTreeClassifier(ccp_alpha=lmb)\n",
    "clf.fit(X, y)\n",
    "clf.score(X_test,y_test)"
   ]
  }
 ],
 "metadata": {
  "kernelspec": {
   "display_name": "Python 3",
   "language": "python",
   "name": "python3"
  },
  "language_info": {
   "codemirror_mode": {
    "name": "ipython",
    "version": 3
   },
   "file_extension": ".py",
   "mimetype": "text/x-python",
   "name": "python",
   "nbconvert_exporter": "python",
   "pygments_lexer": "ipython3",
   "version": "3.7.6"
  }
 },
 "nbformat": 4,
 "nbformat_minor": 4
}
